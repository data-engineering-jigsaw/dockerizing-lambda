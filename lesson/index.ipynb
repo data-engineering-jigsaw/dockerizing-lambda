{
 "cells": [
  {
   "cell_type": "markdown",
   "id": "5de02b5d-9641-40dd-ba99-a313923bfc82",
   "metadata": {},
   "source": [
    "# Dockerizing our Lambda Function"
   ]
  },
  {
   "cell_type": "markdown",
   "id": "eaa01d06-1e49-430e-bcb0-6dd8c026a3a8",
   "metadata": {},
   "source": [
    "### Introduction"
   ]
  },
  {
   "cell_type": "markdown",
   "id": "4ab0043b-c218-4a32-b751-a97e32dfe9a7",
   "metadata": {},
   "source": [
    "So far we have worked with various lambda functions.  And we have seen that the code, and the libraries needed to run the code can get fairly complicated.\n",
    "\n",
    "As our lambda functions become more complicated, we'll want to ensure that our development environment matches that of our lambda environment.  Sounds like a case for Docker.\n",
    "\n",
    "So in this lesson, we'll see how we can dockerize our lambda function and then run it on AWS.  Let's get started."
   ]
  },
  {
   "cell_type": "markdown",
   "id": "98bf6f64-c2a0-4280-ab26-ea4301b26e6a",
   "metadata": {},
   "source": [
    "### Just running Python"
   ]
  },
  {
   "cell_type": "markdown",
   "id": "1d55327e-458c-440e-8629-d1ec86e6f8d6",
   "metadata": {},
   "source": [
    "As a first step, we should make sure the code works outside of Docker by just running our Python code.  \n",
    "\n",
    "So if you look at the `codebase/src/main.py` file, you'll see that it uses pandas to hit an api.  \n",
    "\n",
    "```bash\n",
    "python3 -i main.py\n",
    "```\n",
    "\n",
    "And from there, we run our function, passing through two dummy arguments.\n",
    "\n",
    "```python\n",
    "lambda_handler('', '')\n",
    "```"
   ]
  },
  {
   "cell_type": "markdown",
   "id": "afc6e31a-f157-4c74-93c1-575ffdc1bd2f",
   "metadata": {},
   "source": [
    "### Dockerizing our code"
   ]
  },
  {
   "cell_type": "markdown",
   "id": "47f66cc5-18e4-4587-8b6a-c38d0c9b7640",
   "metadata": {},
   "source": [
    "After confirming that the Python code works, it's time to dockerize it.  We have the following Dockerfile to produce an image."
   ]
  },
  {
   "cell_type": "markdown",
   "id": "8823eb25-0ab3-44cc-8596-0c14de5b8418",
   "metadata": {},
   "source": [
    "```bash\n",
    "FROM public.ecr.aws/lambda/python:3.9-arm64\n",
    "\n",
    "COPY ./src/requirements.txt ./\n",
    "RUN pip3 install -r requirements.txt\n",
    "COPY ./src/main.py ./\n",
    "\n",
    "CMD [\"main.lambda_handler\"]\n",
    "```"
   ]
  },
  {
   "cell_type": "markdown",
   "id": "efff1848-86e6-4994-90a9-38f9d6ebad39",
   "metadata": {},
   "source": [
    "> You can see more details [in the documentation](https://docs.aws.amazon.com/lambda/latest/dg/images-create.html#images-create-from-base)."
   ]
  },
  {
   "cell_type": "markdown",
   "id": "2775a2e2-3748-4058-a4be-9f42be8c4f35",
   "metadata": {},
   "source": [
    "Above we use AWS's lambda image as our base image.  Then we install our `requirements.txt` and copy over our `main.py` file into the image.\n",
    "\n",
    "Finally we specify the command that we want to be run when our Docker image starts.  And this is just the module that holds our lambda function followed by the name of our lambda function.\n",
    "\n",
    "**One important caveat**: The base image should align with your local computing environment.  So here, we are assuming that we are building our image on a computer with a mac M1 or M2 chip.  However, if you are not, change the base image line to: `FROM public.ecr.aws/lambda/python:3.9`.  That is, remove the `-arm64` flag."
   ]
  },
  {
   "cell_type": "markdown",
   "id": "9fad848b-c6c1-40ef-85d5-5e37ecd85f22",
   "metadata": {},
   "source": [
    "Ok, now let's build our Docker image, and tag it with a name of `get_tx_receipts`.  "
   ]
  },
  {
   "cell_type": "markdown",
   "id": "2fc0eedf-16f4-4b24-b7e9-903f267989e8",
   "metadata": {},
   "source": [
    "```bash\n",
    "docker build -t get_tx_receipts .\n",
    "```"
   ]
  },
  {
   "cell_type": "markdown",
   "id": "a71a6f6e-ca32-4e7a-9807-9c9972853ed6",
   "metadata": {},
   "source": [
    "Then we can try running our container locally."
   ]
  },
  {
   "cell_type": "markdown",
   "id": "dea08c7b-f1b6-4b33-9d08-86c6d5fc51d4",
   "metadata": {},
   "source": [
    "```bash\n",
    "docker run -p 9000:8080 get_tx_receipts:latest\n",
    "```"
   ]
  },
  {
   "cell_type": "markdown",
   "id": "eea31348-21ac-4fb8-8ad1-efb6c9575797",
   "metadata": {},
   "source": [
    "So we are running the container, mapping the port to our host port of 9000.  And from there, we can make a request to our lambda funciton by going to a new tab in our terminal and entering the following."
   ]
  },
  {
   "cell_type": "markdown",
   "id": "4e147023-ea29-4b51-ba02-66cc57a4a442",
   "metadata": {},
   "source": [
    "```bash\n",
    "curl -XPOST \"http://localhost:9000/2015-03-31/functions/function/invocations\" -d \"{\\\"msg\\\":\\\"hello\\\"}\"\n",
    "```"
   ]
  },
  {
   "cell_type": "markdown",
   "id": "0ba97660-9721-4587-8c1a-16edad25c19b",
   "metadata": {},
   "source": [
    "We should see the same output of a couple of records from our API."
   ]
  },
  {
   "cell_type": "markdown",
   "id": "f0a86d7a-e4c3-4f94-910e-449a31136f04",
   "metadata": {},
   "source": [
    "### Deploying to AWS"
   ]
  },
  {
   "cell_type": "markdown",
   "id": "977936b1-e631-4b0a-ad07-d6c5b15d092d",
   "metadata": {},
   "source": [
    "Ok, now that we can see our container working in docker, the next step is to push our image to AWS, and then to have lambda run this image.\n",
    "\n",
    "We can push an image to AWS by using the elastic container registry in AWS.  So search for that in the AWS console."
   ]
  },
  {
   "cell_type": "markdown",
   "id": "192ac76e-d4dc-4792-abaf-71aa0589f8aa",
   "metadata": {},
   "source": [
    "<img src=\"./ecr.png\" width=\"100%\">"
   ]
  },
  {
   "cell_type": "markdown",
   "id": "9406bff1-8e82-459d-8426-1284ece24130",
   "metadata": {},
   "source": [
    "Then click on get started, and add a repository name, and click on create repository.  \n",
    "\n",
    "> This is similar to creating a repository in github."
   ]
  },
  {
   "cell_type": "markdown",
   "id": "d434e8a5-1ecc-44b9-b244-9417db7561a2",
   "metadata": {},
   "source": [
    "<img src=\"./repo-name.png\" width=\"100%\">"
   ]
  },
  {
   "cell_type": "markdown",
   "id": "778ef87d-17b6-483a-8489-2889751fb5a6",
   "metadata": {},
   "source": [
    "From here, you can click on the repository you just created and click on `View push commands` to see how to add your docker image to this ECR repository."
   ]
  },
  {
   "cell_type": "markdown",
   "id": "13f72427-4fe1-4257-aacd-a0fe7473b068",
   "metadata": {},
   "source": [
    "> <img src=\"./view-push.png\" width=\"100%\">"
   ]
  },
  {
   "cell_type": "markdown",
   "id": "b73fafc7-fb5d-4770-925b-3e60f620b2a7",
   "metadata": {},
   "source": [
    "The instructions there are quite good, and you just need to follow them line by line (read what they're doing as well.)  When your image is pushed to the repository, you should see it show up under images."
   ]
  },
  {
   "cell_type": "markdown",
   "id": "5d02de73-e52b-49df-8efb-45fabfeec6e5",
   "metadata": {},
   "source": [
    "### Creating our lambda function"
   ]
  },
  {
   "cell_type": "markdown",
   "id": "4952b681-83ed-41f8-849c-116cb03ad95a",
   "metadata": {},
   "source": [
    "Ok, now after pushing our image to ECR, we can use that image to run our lambda function.  To do so, go search for lambda in the AWS console, and create a new function."
   ]
  },
  {
   "cell_type": "markdown",
   "id": "f81397a5-f6e6-49da-a4f1-0e45329a78e3",
   "metadata": {},
   "source": [
    "Select that you are creating an function from a container image, name your function, and then select Browse Images to find the image added to ECR."
   ]
  },
  {
   "cell_type": "markdown",
   "id": "9b93db45-5d27-4847-bb0b-c45c7d1d2dd9",
   "metadata": {},
   "source": [
    "<img src=\"./create-lambda.png\" width=\"80%\">"
   ]
  },
  {
   "cell_type": "markdown",
   "id": "8ac080c9-288c-4dcb-b5c3-d9accaf2e376",
   "metadata": {},
   "source": [
    "You may have to hit the refresh button to the right, but eventually you should see your ECR image listed.  Select it, and then choose `Select image`."
   ]
  },
  {
   "cell_type": "markdown",
   "id": "b6a4038c-d896-41a0-9415-427cad963390",
   "metadata": {},
   "source": [
    "<img src=\"./container-img.png\" width=\"80%\">"
   ]
  },
  {
   "cell_type": "markdown",
   "id": "d0411f7c-b93b-46cd-80d5-6fa9cc4ca23e",
   "metadata": {},
   "source": [
    "Finally, under architecture, make sure that it matches what was specified in your image.  So if you are on a mac m1, and used a base image of `public.ecr.aws/lambda/python:3.9-arm64`, then you should choose an architecture of `arm64`.\n",
    "\n",
    "Finally, click create function, and then create a test to event to ensure that your lambda function works. "
   ]
  },
  {
   "cell_type": "markdown",
   "id": "0663a3e8-6854-45dc-bebf-a74b218b4aa1",
   "metadata": {},
   "source": [
    "* Troubleshooting"
   ]
  },
  {
   "cell_type": "markdown",
   "id": "6560258c-7d50-457a-b63b-b2125cdcd3c5",
   "metadata": {},
   "source": [
    "If you see something like the following, it's likely because you chose a base image that does not match your coding environment."
   ]
  },
  {
   "cell_type": "markdown",
   "id": "b352f405-41c5-46e6-9bc8-956096a4ac8e",
   "metadata": {},
   "source": [
    "<img src=\"./format-error.png\">"
   ]
  },
  {
   "cell_type": "markdown",
   "id": "ed63c6e9-d646-45ee-b5a2-9b84d6e73852",
   "metadata": {},
   "source": [
    "So you'll need to ensure the base image matches your environment (only have a base image of `public.ecr.aws/lambda/python:3.9-arm64` if you have an mac m1 or m2), then rebuild the image locally, push again to ECR, and create a new lambda function selecting that image. "
   ]
  },
  {
   "cell_type": "markdown",
   "id": "8d29319a-c039-44f3-9eda-bfad0ab6fcda",
   "metadata": {},
   "source": [
    "### Development workflow"
   ]
  },
  {
   "cell_type": "markdown",
   "id": "932e647e-d873-44fd-a1cc-c335b85a3715",
   "metadata": {},
   "source": [
    "Going forward, we'll want to be able to update our lambda function.  Because we're using docker this time, our steps will be the following.\n",
    "\n",
    "* Make the changes locally\n",
    "* Rebuild our image locally\n",
    "* Push our image up to AWS ECR\n",
    "* Select deploy a new image in our lambda function to use that new image"
   ]
  },
  {
   "cell_type": "markdown",
   "id": "59ae295c-3919-4751-9a5d-611f5e14da60",
   "metadata": {},
   "source": [
    "<img src=\"./deploy-image.png\" width=\"80%\">"
   ]
  },
  {
   "cell_type": "markdown",
   "id": "e6f458e7-661b-431f-b4a2-7845d6ed78d6",
   "metadata": {},
   "source": [
    "### Summary"
   ]
  },
  {
   "cell_type": "markdown",
   "id": "40d20ffc-88c3-4371-8849-97ee09b578ed",
   "metadata": {},
   "source": [
    "In this lesson, we saw how we can use docker in our lambda function.  This is useful when the dependencies to run our lambda functions increase, as well as the codebase.  Using an image, we are allocated 10 gb of space in our lambda function, so we can install a lot of underlying software to accomplish our task.  And using docker will better ensure that our production environment matches our development environment.\n",
    "\n",
    "To accomplish this, we used ECR the elastic container registry.  This allowed us to deploy a docker image to AWS, keep that image private, and use it in our lambda function."
   ]
  },
  {
   "cell_type": "markdown",
   "id": "6b3107c5-8f72-451f-a366-eee52fbdef82",
   "metadata": {},
   "source": [
    "### Resources"
   ]
  },
  {
   "cell_type": "markdown",
   "id": "5cce353b-2de7-4aea-b292-97ee7b9c27b6",
   "metadata": {},
   "source": [
    "[Python lambda docker video](https://www.youtube.com/watch?v=2VtuNOEw8S4&t=1s&ab_channel=SoumilShah)\n",
    "\n",
    "[AWS Documentation](https://docs.aws.amazon.com/lambda/latest/dg/images-create.html#images-create-from-base)"
   ]
  }
 ],
 "metadata": {
  "kernelspec": {
   "display_name": "Python 3 (ipykernel)",
   "language": "python",
   "name": "python3"
  },
  "language_info": {
   "codemirror_mode": {
    "name": "ipython",
    "version": 3
   },
   "file_extension": ".py",
   "mimetype": "text/x-python",
   "name": "python",
   "nbconvert_exporter": "python",
   "pygments_lexer": "ipython3",
   "version": "3.9.12"
  }
 },
 "nbformat": 4,
 "nbformat_minor": 5
}
